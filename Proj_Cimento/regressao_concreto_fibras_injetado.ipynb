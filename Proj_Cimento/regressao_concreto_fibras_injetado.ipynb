{
 "cells": [
  {
   "cell_type": "markdown",
   "metadata": {
    "language": "markdown"
   },
   "source": [
    "# Regressão - Concreto com Fibras (com dados completos injetados)\\n\n",
    "Notebook contendo o dicionário de dados injetado diretamente para execução offline."
   ]
  },
  {
   "cell_type": "code",
   "execution_count": null,
   "metadata": {
    "language": "python"
   },
   "outputs": [],
   "source": [
    "import pandas as pd\n",
    "import numpy as np\n",
    "import matplotlib.pyplot as plt\n",
    "import seaborn as sns\n",
    "from sklearn.model_selection import train_test_split\n",
    "from sklearn.preprocessing import StandardScaler\n",
    "from sklearn.metrics import mean_squared_error, r2_score, mean_absolute_error\n",
    "import tensorflow as tf\n",
    "from tensorflow import keras\n",
    "from tensorflow.keras import layers\n",
    "import warnings\n",
    "warnings.filterwarnings('ignore')\n",
    "plt.style.use('default')\n",
    "plt.rcParams['figure.figsize'] = (10, 6)\n"
   ]
  },
  {
   "cell_type": "code",
   "execution_count": null,
   "metadata": {
    "language": "python"
   },
   "outputs": [],
   "source": [
    "# Carregar dados preferencialmente do Excel e fazer fallback para o backup\n",
    "import os\n",
    "excel_path = os.path.join(os.getcwd(), 'teste banco de dados.xlsx')\n",
    "df = None\n",
    "if os.path.exists(excel_path):\n",
    "    try:\n",
    "        df = pd.read_excel(excel_path)\n",
    "        print(f\"Dados carregados do Excel: {excel_path} — shape: {df.shape}\")\n",
    "    except Exception as e:\n",
    "        print('Falha ao ler Excel:', e)\n",
    "        df = None\n",
    "else:\n",
    "    print('Arquivo Excel não encontrado no diretório do projeto.')\n",
    "\n",
    "# Fallback: extrair o dicionário `data = {...}` do backup .ipynb.bak\n",
    "if df is None:\n",
    "    bak = os.path.join(os.getcwd(), 'regressao_concreto_fibras.ipynb.bak')\n",
    "    if os.path.exists(bak):\n",
    "        try:\n",
    "            with open(bak, encoding='utf8') as f:\n",
    "                content = f.read()\n",
    "            import re\n",
    "            m = re.search(r'data\\s*=\\s*\\{[\\s\\S]*?\\n\\}', content)\n",
    "            if m:\n",
    "                data_block = m.group(0)\n",
    "                env = {}\n",
    "                exec(data_block, env)\n",
    "                data = env.get('data', None)\n",
    "                if data is not None:\n",
    "                    df = pd.DataFrame(data)\n",
    "                    print('Dados carregados a partir do backup .ipynb.bak (trecho).')\n",
    "                else:\n",
    "                    raise FileNotFoundError('Não foi possível extrair variável data do backup.')\n",
    "            else:\n",
    "                raise FileNotFoundError('Bloco `data = {...}` não encontrado no backup.')\n",
    "        except Exception as e:\n",
    "            raise RuntimeError(f'Falha ao extrair dados do backup: {e}')\n",
    "    else:\n",
    "        raise FileNotFoundError('Nenhum arquivo de dados encontrado: coloque \"teste banco de dados.xlsx\" no diretório ou verifique o backup .ipynb.bak')\n",
    "\n",
    "# Verificação final\n",
    "if df is None:\n",
    "    raise FileNotFoundError('DataFrame não foi carregado.')\n",
    "\n",
    "# Padronizar nomes de colunas (remover espaços e quebras)\n",
    "df.columns = [c.strip().replace('\\n',' ').replace(' ','_') for c in df.columns]\n",
    "print('Colunas detectadas:', list(df.columns))\n"
   ]
  },
  {
   "cell_type": "code",
   "execution_count": null,
   "metadata": {
    "language": "python"
   },
   "outputs": [],
   "source": [
    "display(df.head())\n",
    "print('Shape:', df.shape)"
   ]
  }
 ],
 "metadata": {
  "kernelspec": {
   "display_name": "Python 3",
   "language": "python",
   "name": "python3"
  },
  "language_info": {
   "name": "python",
   "version": "3.x"
  }
 },
 "nbformat": 4,
 "nbformat_minor": 5
}
